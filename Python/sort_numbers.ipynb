{
 "cells": [
  {
   "cell_type": "code",
   "execution_count": 2,
   "id": "c33a91ae",
   "metadata": {},
   "outputs": [
    {
     "name": "stdout",
     "output_type": "stream",
     "text": [
      "Enter the first number:44\n",
      "Enter the second number:3\n",
      "Enter the third number:5\n",
      "Enter the fourth number:3\n",
      "The sorted order is: 44 5 3 3\n"
     ]
    }
   ],
   "source": [
    "a=eval(input(\"Enter the first number:\"))\n",
    "b=eval(input(\"Enter the second number:\"))\n",
    "c=eval(input(\"Enter the third number:\"))\n",
    "d=eval(input(\"Enter the fourth number:\"))\n",
    "if a<b:a,b=b,a\n",
    "if c<d:c,d=d,c\n",
    "if a<c:a,c=c,a\n",
    "if b<d:b,d=d,b\n",
    "if b<c:b,c=c,b\n",
    "print(\"The sorted order is:\",a,b,c,d)"
   ]
  },
  {
   "cell_type": "code",
   "execution_count": null,
   "id": "3d360043",
   "metadata": {},
   "outputs": [],
   "source": []
  }
 ],
 "metadata": {
  "kernelspec": {
   "display_name": "Python 3 (ipykernel)",
   "language": "python",
   "name": "python3"
  },
  "language_info": {
   "codemirror_mode": {
    "name": "ipython",
    "version": 3
   },
   "file_extension": ".py",
   "mimetype": "text/x-python",
   "name": "python",
   "nbconvert_exporter": "python",
   "pygments_lexer": "ipython3",
   "version": "3.10.9"
  }
 },
 "nbformat": 4,
 "nbformat_minor": 5
}
