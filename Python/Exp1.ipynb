{
 "cells": [
  {
   "cell_type": "code",
   "execution_count": 21,
   "id": "84063ae9",
   "metadata": {},
   "outputs": [
    {
     "name": "stdout",
     "output_type": "stream",
     "text": [
      "Enter the number of digits:3\n",
      "Enter a 3 digit integer:-434\n",
      "Please Enter a 3 digit number\n"
     ]
    }
   ],
   "source": [
    "n=int(input('Enter the number of digits:'))\n",
    "if n>0:\n",
    "    number=int(input(f'Enter a {n} digit integer:'))\n",
    "    if number >= 10*(n-1):\n",
    "        if number < 10**n:\n",
    "            for i in range(n):\n",
    "                digit=number//(10**(n-1))\n",
    "                print(digit)\n",
    "                number%=10**(n-1)\n",
    "                n-=1\n",
    "    else:\n",
    "        print(f'Please Enter a {n} digit number')\n",
    "else:\n",
    "    print('Please enter a valid number(greater than 0)')"
   ]
  },
  {
   "cell_type": "markdown",
   "id": "f2e070cf",
   "metadata": {},
   "source": []
  }
 ],
 "metadata": {
  "kernelspec": {
   "display_name": "Python 3 (ipykernel)",
   "language": "python",
   "name": "python3"
  },
  "language_info": {
   "codemirror_mode": {
    "name": "ipython",
    "version": 3
   },
   "file_extension": ".py",
   "mimetype": "text/x-python",
   "name": "python",
   "nbconvert_exporter": "python",
   "pygments_lexer": "ipython3",
   "version": "3.10.9"
  }
 },
 "nbformat": 4,
 "nbformat_minor": 5
}
