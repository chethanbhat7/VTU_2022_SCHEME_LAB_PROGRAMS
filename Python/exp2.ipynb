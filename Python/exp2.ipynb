{
 "cells": [
  {
   "cell_type": "code",
   "execution_count": 2,
   "id": "c33a91ae",
   "metadata": {},
   "outputs": [
    {
     "name": "stdout",
     "output_type": "stream",
     "text": [
      "Enter the first number:44\n",
      "Enter the second number:3\n",
      "Enter the third number:5\n",
      "Enter the fourth number:3\n",
      "The sorted order is: 44 5 3 3\n"
     ]
    }
   ],
   "source": [
    "a=eval(input(\"Enter the first number:\"))\n",
    "b=eval(input(\"Enter the second number:\"))\n",
    "c=eval(input(\"Enter the third number:\"))\n",
    "d=eval(input(\"Enter the fourth number:\"))\n",
    "if a<b:a,b=b,a\n",
    "if c<d:c,d=d,c\n",
    "if a<c:a,c=c,a\n",
    "if b<d:b,d=d,b\n",
    "if b<c:b,c=c,b\n",
    "print(\"The sorted order is:\",a,b,c,d)"
   ]
  },
  {
   "cell_type": "code",
   "execution_count": 46,
   "id": "540500a7",
   "metadata": {},
   "outputs": [
    {
     "name": "stdout",
     "output_type": "stream",
     "text": [
      "-6\n",
      "-0b1100\n",
      "-6\n"
     ]
    }
   ],
   "source": [
    "a=-12\n",
    "b=10\n",
    "c=a>>1\n",
    "print(c)\n",
    "print(bin(-12))\n",
    "print(int(-0b0110))"
   ]
  },
  {
   "cell_type": "code",
   "execution_count": 34,
   "id": "b36c5a6f",
   "metadata": {},
   "outputs": [
    {
     "name": "stdout",
     "output_type": "stream",
     "text": [
      "-0b11\n",
      "2\n",
      "0b10\n",
      "-3\n",
      "-3\n",
      "-0b11\n"
     ]
    }
   ],
   "source": [
    "print(bin(-3))\n",
    "print(~ -3)\n",
    "print(bin(2))\n",
    "print(int(-0b11))\n",
    "print(-(2+1))\n",
    "print(bin(-(2+1)))"
   ]
  },
  {
   "cell_type": "code",
   "execution_count": null,
   "id": "5731e365",
   "metadata": {},
   "outputs": [],
   "source": []
  },
  {
   "cell_type": "code",
   "execution_count": null,
   "id": "e36565a0",
   "metadata": {},
   "outputs": [],
   "source": []
  }
 ],
 "metadata": {
  "kernelspec": {
   "display_name": "Python 3 (ipykernel)",
   "language": "python",
   "name": "python3"
  },
  "language_info": {
   "codemirror_mode": {
    "name": "ipython",
    "version": 3
   },
   "file_extension": ".py",
   "mimetype": "text/x-python",
   "name": "python",
   "nbconvert_exporter": "python",
   "pygments_lexer": "ipython3",
   "version": "3.10.9"
  }
 },
 "nbformat": 4,
 "nbformat_minor": 5
}
